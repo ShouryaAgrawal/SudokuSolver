{
 "cells": [
  {
   "cell_type": "code",
   "execution_count": 1,
   "metadata": {},
   "outputs": [],
   "source": [
    "def helper(x,y,no):\n",
    "    #check all x\n",
    "    for i in range(9):\n",
    "        if grid[i][y] == no:\n",
    "            return False\n",
    "    #check y line\n",
    "    for i in range(9):\n",
    "        if grid[x][i] == no:\n",
    "            return False\n",
    "    \n",
    "    # check sq\n",
    "    xrem  = x%3\n",
    "    yrem = y%3\n",
    "    \n",
    "    for r in range(3):\n",
    "        for c in range (3):\n",
    "            if grid[x-xrem+r][y-yrem+c] == no:\n",
    "                return False\n",
    "    return True"
   ]
  },
  {
   "cell_type": "code",
   "execution_count": 2,
   "metadata": {},
   "outputs": [],
   "source": [
    "def sudokusolve():\n",
    "    global grid \n",
    "    #grid = gr\n",
    "    \n",
    "    for r in range(9):\n",
    "        for c in range(9):\n",
    "            if grid[r][c] == 0:\n",
    "                for n in range(1,10):\n",
    "                   \n",
    "                    if helper(r,c,n) == True:\n",
    "                    \n",
    "                        grid[r][c] = n # allocate \n",
    "              #          print(grid)\n",
    "                        sudokusolve() # recursion\n",
    "                        grid[r][c] = 0  # If it reaches here, it failed ahead and needs to back track. \n",
    "                                        #It goes back to the loop and becomes n+1 if that works.\n",
    "                                        # We need this line since if no other n works, 0 is required for future\n",
    "                                        \n",
    "                return  # reaches here when n is exhausted i,e 10 an nos possible moves left\n",
    "    \n",
    "    #return \"Sol found\"\n",
    "\n",
    "    for r in range(9):\n",
    "        print(\"\\n\")\n",
    "        for c in range(9):\n",
    "            print( grid[r][c], end= \"   \" )\n",
    "    "
   ]
  },
  {
   "cell_type": "code",
   "execution_count": 3,
   "metadata": {},
   "outputs": [],
   "source": [
    "grid = [[3, 0, 6, 5, 0, 8, 4, 0, 0],\n",
    "        [5, 2, 0, 0, 0, 0, 0, 0, 0],\n",
    "        [0, 8, 7, 0, 0, 0, 0, 3, 1],\n",
    "        [0, 0, 3, 0, 1, 0, 0, 8, 0],\n",
    "        [9, 0, 0, 8, 6, 3, 0, 0, 5],\n",
    "        [0, 5, 0, 0, 9, 0, 6, 0, 0],\n",
    "        [1, 3, 0, 0, 0, 0, 2, 5, 0],\n",
    "        [0, 0, 0, 0, 0, 0, 0, 7, 4],\n",
    "        [0, 0, 5, 2, 0, 6, 3, 0, 0]]"
   ]
  },
  {
   "cell_type": "markdown",
   "metadata": {},
   "source": [
    "## Testing of above code"
   ]
  },
  {
   "cell_type": "code",
   "execution_count": 4,
   "metadata": {},
   "outputs": [
    {
     "name": "stdout",
     "output_type": "stream",
     "text": [
      "\n",
      "\n",
      "3   1   6   5   7   8   4   9   2   \n",
      "\n",
      "5   2   9   1   3   4   7   6   8   \n",
      "\n",
      "4   8   7   6   2   9   5   3   1   \n",
      "\n",
      "2   6   3   4   1   5   9   8   7   \n",
      "\n",
      "9   7   4   8   6   3   1   2   5   \n",
      "\n",
      "8   5   1   7   9   2   6   4   3   \n",
      "\n",
      "1   3   8   9   4   7   2   5   6   \n",
      "\n",
      "6   9   2   3   5   1   8   7   4   \n",
      "\n",
      "7   4   5   2   8   6   3   1   9   "
     ]
    }
   ],
   "source": [
    "a = sudokusolve()"
   ]
  },
  {
   "cell_type": "code",
   "execution_count": 5,
   "metadata": {},
   "outputs": [
    {
     "data": {
      "text/plain": [
       "[[3, 0, 6, 5, 0, 8, 4, 0, 0],\n",
       " [5, 2, 0, 0, 0, 0, 0, 0, 0],\n",
       " [0, 8, 7, 0, 0, 0, 0, 3, 1],\n",
       " [0, 0, 3, 0, 1, 0, 0, 8, 0],\n",
       " [9, 0, 0, 8, 6, 3, 0, 0, 5],\n",
       " [0, 5, 0, 0, 9, 0, 6, 0, 0],\n",
       " [1, 3, 0, 0, 0, 0, 2, 5, 0],\n",
       " [0, 0, 0, 0, 0, 0, 0, 7, 4],\n",
       " [0, 0, 5, 2, 0, 6, 3, 0, 0]]"
      ]
     },
     "execution_count": 5,
     "metadata": {},
     "output_type": "execute_result"
    }
   ],
   "source": [
    "grid"
   ]
  },
  {
   "cell_type": "code",
   "execution_count": 6,
   "metadata": {},
   "outputs": [],
   "source": [
    "gp =   [[0, 3, 6, 5, 9, 8, 4, 0, 0],\n",
    "        [5, 2, 0, 0, 0, 0, 0, 0, 0],\n",
    "        [0, 8, 7, 0, 0, 0, 0, 3, 1],\n",
    "        [0, 0, 3, 0, 1, 0, 0, 8, 0],\n",
    "        [9, 0, 0, 8, 6, 3, 0, 0, 5],\n",
    "        [0, 5, 0, 0, 9, 0, 6, 0, 0],\n",
    "        [1, 3, 0, 0, 0, 0, 2, 5, 0],\n",
    "        [0, 0, 0, 0, 0, 0, 0, 7, 4],\n",
    "        [0, 0, 5, 2, 0, 6, 3, 0, 0]]"
   ]
  }
 ],
 "metadata": {
  "kernelspec": {
   "display_name": "Python 3",
   "language": "python",
   "name": "python3"
  },
  "language_info": {
   "codemirror_mode": {
    "name": "ipython",
    "version": 3
   },
   "file_extension": ".py",
   "mimetype": "text/x-python",
   "name": "python",
   "nbconvert_exporter": "python",
   "pygments_lexer": "ipython3",
   "version": "3.8.5"
  }
 },
 "nbformat": 4,
 "nbformat_minor": 4
}
